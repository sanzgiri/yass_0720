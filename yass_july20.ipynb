{
 "cells": [
  {
   "cell_type": "markdown",
   "metadata": {
    "slideshow": {
     "slide_type": "slide"
    }
   },
   "source": [
    "## Covid-19, Kevin Systrom and Hosting Auto-Updating Dashboards on Github\n",
    "\n",
    "### *Six Themes in Search of a Presentation*\n",
    "\n",
    "#### Ashutosh Sanzgiri\n",
    "#### YASS\n",
    "#### July 31, 2020"
   ]
  },
  {
   "cell_type": "markdown",
   "metadata": {
    "slideshow": {
     "slide_type": "slide"
    }
   },
   "source": [
    "#### The story begins in mid-April, in the early days of the pandemic:"
   ]
  },
  {
   "cell_type": "markdown",
   "metadata": {
    "slideshow": {
     "slide_type": "fragment"
    }
   },
   "source": [
    "#### This was a heady time for data science with lots of data, analyses, and visualizations floating around..."
   ]
  },
  {
   "cell_type": "markdown",
   "metadata": {
    "slideshow": {
     "slide_type": "fragment"
    }
   },
   "source": [
    "#### We created a slack channel called <span style=\"color:red\">covid_data_science</span> to discuss and make sense of what was going on."
   ]
  },
  {
   "cell_type": "markdown",
   "metadata": {
    "slideshow": {
     "slide_type": "slide"
    }
   },
   "source": [
    "#### Early morning on April 14th, Sam Seljan posted this:\n",
    "\n"
   ]
  },
  {
   "cell_type": "markdown",
   "metadata": {
    "slideshow": {
     "slide_type": "fragment"
    }
   },
   "source": [
    "<p align=\"center\"><img src=\"yass_covid/img1.png\" /> </p> "
   ]
  },
  {
   "cell_type": "markdown",
   "metadata": {
    "slideshow": {
     "slide_type": "slide"
    }
   },
   "source": [
    "#### Kevin Systrom is the co-founder of Instagram.\n",
    "<p align=\"center\"><img src=\"yass_covid/kevin.jpg\" width=\"200\"/> </p> "
   ]
  },
  {
   "cell_type": "markdown",
   "metadata": {
    "slideshow": {
     "slide_type": "fragment"
    }
   },
   "source": [
    "<p align=\"center\"><img src=\"yass_covid/img2.png\" /> </p> "
   ]
  },
  {
   "cell_type": "markdown",
   "metadata": {
    "slideshow": {
     "slide_type": "slide"
    }
   },
   "source": [
    "* On his github repo, Kevin had posted a Jupyter notebook to estimate the effective reproduction number (R_t) for covid-19 using a real-time Bayesian analysis."
   ]
  },
  {
   "cell_type": "markdown",
   "metadata": {
    "slideshow": {
     "slide_type": "fragment"
    }
   },
   "source": [
    "* He had done this for US states. Within a few hours, I modified it to run for for all US counties by state, starting with Oregon."
   ]
  },
  {
   "cell_type": "markdown",
   "metadata": {
    "slideshow": {
     "slide_type": "fragment"
    }
   },
   "source": [
    "<p align=\"center\"><img src=\"yass_covid/img3.png\" /> </p> "
   ]
  },
  {
   "cell_type": "markdown",
   "metadata": {
    "slideshow": {
     "slide_type": "slide"
    }
   },
   "source": [
    "<p align=\"center\"><img src=\"yass_covid/img5.png\" width=\"600\" /> </p> "
   ]
  },
  {
   "cell_type": "markdown",
   "metadata": {
    "slideshow": {
     "slide_type": "slide"
    }
   },
   "source": [
    "* Later that evening, I modified the code to estimate R_t by country and submitted a PR on k-sys/covid-19 repo."
   ]
  },
  {
   "cell_type": "markdown",
   "metadata": {
    "slideshow": {
     "slide_type": "fragment"
    }
   },
   "source": [
    "<p align=\"center\"><img src=\"yass_covid/img4.png\" /> </p> "
   ]
  },
  {
   "cell_type": "markdown",
   "metadata": {
    "slideshow": {
     "slide_type": "slide"
    }
   },
   "source": [
    "* That PR is still languishing unmerged...\n",
    "\n",
    "<p align=\"center\"><img src=\"yass_covid/img6.png\" /> </p> "
   ]
  },
  {
   "cell_type": "markdown",
   "metadata": {
    "slideshow": {
     "slide_type": "slide"
    }
   },
   "source": [
    "* We will come back to this story later. For now, let's talk about Jupyter notebooks on Github."
   ]
  },
  {
   "cell_type": "markdown",
   "metadata": {
    "slideshow": {
     "slide_type": "slide"
    }
   },
   "source": [
    "* Github is able to render Jupyter notebook, but you can't run the notebook there."
   ]
  },
  {
   "cell_type": "markdown",
   "metadata": {
    "slideshow": {
     "slide_type": "fragment"
    }
   },
   "source": [
    "* *External options exist, such as Binder & Google Colab*"
   ]
  },
  {
   "cell_type": "markdown",
   "metadata": {
    "slideshow": {
     "slide_type": "fragment"
    }
   },
   "source": [
    "* Unless you keep pushing updates, any time-dependent analysis and plots quickly get stale."
   ]
  },
  {
   "cell_type": "markdown",
   "metadata": {
    "slideshow": {
     "slide_type": "fragment"
    }
   },
   "source": [
    "* This is the case with Kevin's original notebook: https://github.com/k-sys/covid-19/blob/master/Realtime%20R0.ipynb. The plots have not been updated since end of April."
   ]
  },
  {
   "cell_type": "markdown",
   "metadata": {
    "slideshow": {
     "slide_type": "slide"
    }
   },
   "source": [
    "* What if you could auto-update your Jupyter notebooks on Github? i.e. host a dashboard that gets updated on schedule."
   ]
  },
  {
   "cell_type": "markdown",
   "metadata": {
    "slideshow": {
     "slide_type": "fragment"
    }
   },
   "source": [
    "* Does not sound to complicated, but a simple easy-to-use solution was not available until early this year."
   ]
  },
  {
   "cell_type": "markdown",
   "metadata": {
    "slideshow": {
     "slide_type": "slide"
    }
   },
   "source": [
    "* Github has provided an ability to host a static website since 2015.\n"
   ]
  },
  {
   "cell_type": "markdown",
   "metadata": {
    "slideshow": {
     "slide_type": "fragment"
    }
   },
   "source": [
    "* Called Github Pages: you can host your personal blog and connect it to a custom domain."
   ]
  },
  {
   "cell_type": "markdown",
   "metadata": {
    "slideshow": {
     "slide_type": "fragment"
    }
   },
   "source": [
    "* A Ruby tool called Jekyll lets you create blog posts in Markdown syntax and auto-deploy your website whenever you push your commits."
   ]
  },
  {
   "cell_type": "markdown",
   "metadata": {
    "slideshow": {
     "slide_type": "slide"
    }
   },
   "source": [
    "#### Enter Fastpages"
   ]
  },
  {
   "cell_type": "markdown",
   "metadata": {
    "slideshow": {
     "slide_type": "fragment"
    }
   },
   "source": [
    "* Created by Hamel Hussain (ML engineer @ Github) & Jeremy Howard (FastAI, #MasksForAll) in early 2020."
   ]
  },
  {
   "cell_type": "markdown",
   "metadata": {
    "slideshow": {
     "slide_type": "fragment"
    }
   },
   "source": [
    "* Lots of enhancements to the blogging functionality provided by Jekyll."
   ]
  },
  {
   "cell_type": "markdown",
   "metadata": {
    "slideshow": {
     "slide_type": "fragment"
    }
   },
   "source": [
    "* Provides a template that lets you set up your personal website in minutes."
   ]
  },
  {
   "cell_type": "markdown",
   "metadata": {
    "slideshow": {
     "slide_type": "fragment"
    }
   },
   "source": [
    "* In particular for data science, it allows you to automatically convert your Jupyter notebook to a blog post and host it on Github."
   ]
  },
  {
   "cell_type": "markdown",
   "metadata": {
    "slideshow": {
     "slide_type": "slide"
    }
   },
   "source": [
    "####  Fastpages are powered by Github Actions"
   ]
  },
  {
   "cell_type": "markdown",
   "metadata": {
    "slideshow": {
     "slide_type": "fragment"
    }
   },
   "source": [
    "* Github Actions is a tool that lets you run a custom workflow on Github events such as push, issue creation or new release tag, or on a cron-like schedule."
   ]
  },
  {
   "cell_type": "markdown",
   "metadata": {
    "slideshow": {
     "slide_type": "fragment"
    }
   },
   "source": [
    "* Workflow can be arbitrary code that can run on Github's cloud enviroment (Azure?). If necessary, you could host the runner on your cloud provider of choice or even on your laptop."
   ]
  },
  {
   "cell_type": "markdown",
   "metadata": {
    "slideshow": {
     "slide_type": "fragment"
    }
   },
   "source": [
    "* Your actions live alongside your code in the same repo. And a failed action can create an issue in your repo :-)"
   ]
  },
  {
   "cell_type": "markdown",
   "metadata": {
    "slideshow": {
     "slide_type": "slide"
    }
   },
   "source": [
    "#### More on Github Actions"
   ]
  },
  {
   "cell_type": "markdown",
   "metadata": {
    "slideshow": {
     "slide_type": "fragment"
    }
   },
   "source": [
    "* Free compute from Github (decent usage/resource limits, even for free accounts), that work for many use cases."
   ]
  },
  {
   "cell_type": "markdown",
   "metadata": {
    "slideshow": {
     "slide_type": "fragment"
    }
   },
   "source": [
    "* No need to setup and schedule job elsewhere (e.g. free AWS / GCP instances)."
   ]
  },
  {
   "cell_type": "markdown",
   "metadata": {
    "slideshow": {
     "slide_type": "slide"
    }
   },
   "source": [
    "#### Github Actions is a Magical Tool"
   ]
  },
  {
   "cell_type": "markdown",
   "metadata": {
    "slideshow": {
     "slide_type": "fragment"
    }
   },
   "source": [
    "* There is a growing list of community-contributed actions: https://github.com/sdras/awesome-actions"
   ]
  },
  {
   "cell_type": "markdown",
   "metadata": {
    "slideshow": {
     "slide_type": "fragment"
    }
   },
   "source": [
    "* Most/all of the DevOps usecases are supported."
   ]
  },
  {
   "cell_type": "markdown",
   "metadata": {
    "slideshow": {
     "slide_type": "fragment"
    }
   },
   "source": [
    "* For datascience:\n",
    "\n",
    "    * Your Jupyter notebooks can be rerun on schedule and converted to HTML, to build an auto-updating dashboard.\n",
    "    * Very complex workflows to validate your model before releasing it to production."
   ]
  },
  {
   "cell_type": "markdown",
   "metadata": {
    "slideshow": {
     "slide_type": "slide"
    }
   },
   "source": [
    "#### What else can Github Actions be used for"
   ]
  },
  {
   "cell_type": "markdown",
   "metadata": {
    "slideshow": {
     "slide_type": "fragment"
    }
   },
   "source": [
    "#### Jeopardy Scraper\n",
    "\n",
    "* Scrapes questions from https://j-archive.com/ every Saturday morning and updates a dataset on S3, which feeds into my streamlit app: http://34.218.62.118:8501/"
   ]
  },
  {
   "cell_type": "markdown",
   "metadata": {
    "slideshow": {
     "slide_type": "fragment"
    }
   },
   "source": [
    "#### Spotify Playlist Updater\n",
    "\n",
    "* Not tried it, but cool idea: https://github.com/swinton/SpotHub\n",
    "* You could use it to scrape tracks and post a new playlist on your spotify account"
   ]
  },
  {
   "cell_type": "markdown",
   "metadata": {
    "slideshow": {
     "slide_type": "slide"
    }
   },
   "source": [
    "#### And something related to Data Science :-)"
   ]
  },
  {
   "cell_type": "markdown",
   "metadata": {
    "slideshow": {
     "slide_type": "fragment"
    }
   },
   "source": [
    "#### Running ML models and submitting entries to contests\n",
    "\n",
    "* With this one, I actually ran into an issue with memory (7 GB) on the free Github VM.\n",
    "* Had to use a self-hosted runner, eventually got it running on my personal mac. "
   ]
  },
  {
   "cell_type": "markdown",
   "metadata": {
    "slideshow": {
     "slide_type": "slide"
    }
   },
   "source": [
    "#### Coming back to original story\n",
    "\n",
    "* I had set up a bunch of dashboards (auto-updating Jupyter notebooks) using Fastpages: https://sanzgiri.github.io/covid-19-dashboards/"
   ]
  },
  {
   "cell_type": "markdown",
   "metadata": {
    "slideshow": {
     "slide_type": "fragment"
    }
   },
   "source": [
    "* In particular, I had created one that calculates R_t by state in India."
   ]
  },
  {
   "cell_type": "markdown",
   "metadata": {
    "slideshow": {
     "slide_type": "slide"
    }
   },
   "source": [
    "* On 4/19, Rishabh Tyagi, a researcher at IIPS Mumbai, looking to do a statewise analysis for India, reached out."
   ]
  },
  {
   "cell_type": "markdown",
   "metadata": {
    "slideshow": {
     "slide_type": "fragment"
    }
   },
   "source": [
    "<p align=\"center\"><img src=\"yass_covid/img7.png\" /> </p> "
   ]
  },
  {
   "cell_type": "markdown",
   "metadata": {
    "slideshow": {
     "slide_type": "slide"
    }
   },
   "source": [
    "#### Start of a productive collaboration"
   ]
  },
  {
   "cell_type": "markdown",
   "metadata": {
    "slideshow": {
     "slide_type": "fragment"
    }
   },
   "source": [
    "* Built a regression model to explain state-level variation in R_t, based on implemented governmental interventions, lockdown measures, testing rate, and health infrastructure."
   ]
  },
  {
   "cell_type": "markdown",
   "metadata": {
    "slideshow": {
     "slide_type": "fragment"
    }
   },
   "source": [
    "* Recently extended the analysis to district-level."
   ]
  },
  {
   "cell_type": "markdown",
   "metadata": {
    "slideshow": {
     "slide_type": "slide"
    }
   },
   "source": [
    "* Our research paper has been submitted to Journal of Population Research (Springer)"
   ]
  },
  {
   "cell_type": "markdown",
   "metadata": {
    "slideshow": {
     "slide_type": "fragment"
    }
   },
   "source": [
    "* Preprint available on [ResearchGate](https://www.researchgate.net/publication/342588687_Estimation_of_Effective_Reproduction_Numbers_for_COVID-19_using_Real-Time_Bayesian_Method_for_India_and_its_States) & [ResearchSquare](https://www.researchsquare.com/article/rs-45937/v1)\n",
    "<p align=\"center\"><img src=\"yass_covid/img8.png\" /> </p>"
   ]
  },
  {
   "cell_type": "markdown",
   "metadata": {
    "slideshow": {
     "slide_type": "slide"
    }
   },
   "source": [
    "#### Key Takeaways"
   ]
  },
  {
   "cell_type": "markdown",
   "metadata": {
    "slideshow": {
     "slide_type": "fragment"
    }
   },
   "source": [
    "* FastPages is a quick and easy way to host a blog using Github."
   ]
  },
  {
   "cell_type": "markdown",
   "metadata": {
    "slideshow": {
     "slide_type": "fragment"
    }
   },
   "source": [
    "* FastPages also allows you to create a blog post from your Jupyter notebook, making it very easy to Data Scientists to share their work."
   ]
  },
  {
   "cell_type": "markdown",
   "metadata": {
    "slideshow": {
     "slide_type": "fragment"
    }
   },
   "source": [
    "* Github Actions gives you the ability to auto-update your Jupyter notebooks on a schedule and create a dashboard."
   ]
  },
  {
   "cell_type": "markdown",
   "metadata": {
    "slideshow": {
     "slide_type": "fragment"
    }
   },
   "source": [
    "* Github Actions is a very powerful tool that you can use to create fun / useful workflows."
   ]
  },
  {
   "cell_type": "markdown",
   "metadata": {
    "slideshow": {
     "slide_type": "slide"
    }
   },
   "source": [
    "* You can also create presentations using Jupyter notebooks (and host them on Github which I will do after this presentation :-))"
   ]
  },
  {
   "cell_type": "markdown",
   "metadata": {
    "slideshow": {
     "slide_type": "slide"
    }
   },
   "source": [
    "#### Acknowledgements\n",
    "\n",
    "* Sam Seljan for the slack post and tweet that triggered this whole activity.\n",
    "* Kevin Systrom for his amazing & well-documented notebook on which our analysis was based.\n",
    "* Hamel Hussain & Jeremy Howard for creating FastPages and ML use cases for Github Actions.\n",
    "* Rishabh Tyagi for our wonderful collaboration."
   ]
  },
  {
   "cell_type": "markdown",
   "metadata": {
    "slideshow": {
     "slide_type": "slide"
    }
   },
   "source": [
    "#### References:\n",
    "\n",
    "* Github Pages: https://pages.github.com/\n",
    "* FastPages: https://github.com/fastai/fastpages\n",
    "* Github Actions: https://github.com/features/actions\n",
    "* Creating auto-updating notebooks & dashboards with Github Actions: https://sanzgiri.github.io/jupyter/2020/04/15/fastpages-jupyter-notebooks.html\n",
    "* Github Actions for ML: https://fastpages.fast.ai/actions/markdown/2020/03/06/fastpages-actions.html\n",
    "* Awesome Actions: https://github.com/sdras/awesome-actions\n",
    "* How this presentation was created: https://corpwiki.xandr-services.com/display/~asanzgiri/Creating+Presentations+form+Markdown"
   ]
  },
  {
   "cell_type": "markdown",
   "metadata": {
    "slideshow": {
     "slide_type": "slide"
    }
   },
   "source": [
    "#### Presentation revealed as  Jupyter Notebook\n",
    "\n",
    "* Powered by reveal.js\n"
   ]
  }
 ],
 "metadata": {
  "celltoolbar": "Slideshow",
  "kernelspec": {
   "display_name": "Python 3",
   "language": "python",
   "name": "python3"
  },
  "language_info": {
   "codemirror_mode": {
    "name": "ipython",
    "version": 3
   },
   "file_extension": ".py",
   "mimetype": "text/x-python",
   "name": "python",
   "nbconvert_exporter": "python",
   "pygments_lexer": "ipython3",
   "version": "3.7.7"
  }
 },
 "nbformat": 4,
 "nbformat_minor": 4
}
